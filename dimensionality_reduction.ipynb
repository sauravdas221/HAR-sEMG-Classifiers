{
 "cells": [
  {
   "cell_type": "code",
   "execution_count": 1,
   "metadata": {
    "colab": {
     "base_uri": "https://localhost:8080/"
    },
    "id": "97-3nnRRVWrd",
    "outputId": "9445b4e6-3b35-4f50-eefa-6820d23ea348"
   },
   "outputs": [],
   "source": [
    "import pandas as pd\n",
    "import numpy as np\n",
    "import matplotlib.pyplot as plt\n",
    "\n",
    "from sklearn.model_selection import train_test_split\n",
    "from sklearn.preprocessing import StandardScaler"
   ]
  },
  {
   "cell_type": "code",
   "execution_count": 2,
   "metadata": {
    "colab": {
     "base_uri": "https://localhost:8080/"
    },
    "id": "-2wF7fV2xfdv",
    "outputId": "0f403a4b-f8a8-4771-90b1-730539cdfb8a"
   },
   "outputs": [
    {
     "name": "stdout",
     "output_type": "stream",
     "text": [
      "zsh:1: command not found: nvidia-smi\n",
      "Your runtime has 8.6 gigabytes of available RAM\n",
      "\n",
      "Not using a high-RAM runtime\n"
     ]
    }
   ],
   "source": [
    "gpu_info = !nvidia-smi\n",
    "gpu_info = '\\n'.join(gpu_info)\n",
    "if gpu_info.find('failed') >= 0:\n",
    "  print('Not connected to a GPU')\n",
    "else:\n",
    "  print(gpu_info)\n",
    "\n",
    "from psutil import virtual_memory\n",
    "ram_gb = virtual_memory().total / 1e9\n",
    "print('Your runtime has {:.1f} gigabytes of available RAM\\n'.format(ram_gb))\n",
    "\n",
    "if ram_gb < 20:\n",
    "  print('Not using a high-RAM runtime')\n",
    "else:\n",
    "  print('You are using a high-RAM runtime!')"
   ]
  },
  {
   "cell_type": "code",
   "execution_count": 3,
   "metadata": {
    "colab": {
     "base_uri": "https://localhost:8080/"
    },
    "id": "veSUXZVNVcJx",
    "outputId": "6d09b542-e991-4350-ddf2-803892d55184"
   },
   "outputs": [
    {
     "name": "stdout",
     "output_type": "stream",
     "text": [
      "<class 'pandas.core.frame.DataFrame'>\n",
      "RangeIndex: 1176 entries, 0 to 1175\n",
      "Columns: 553 entries, subject_id to semg_5_fd_meanfreq_10\n",
      "dtypes: float64(440), int32(113)\n",
      "memory usage: 4.5 MB\n"
     ]
    }
   ],
   "source": [
    "# Read the processed dataset.\n",
    "# semg_df = pd.read_parquet('/content/drive/MyDrive/sEMG-HAR/semg_extracted_features_only', engine='fastparquet')\n",
    "semg_df = pd.read_parquet('semg_extracted_scalar_features_only/', engine='fastparquet')\n",
    "semg_df.to_csv('semg_extracted_scalar_features_only.csv')\n",
    "semg_df.info()"
   ]
  },
  {
   "cell_type": "code",
   "execution_count": 4,
   "metadata": {
    "colab": {
     "base_uri": "https://localhost:8080/"
    },
    "id": "QBGLsdw9Ya6J",
    "outputId": "8081d08c-9751-4ecc-886e-e83373cf4266"
   },
   "outputs": [
    {
     "name": "stdout",
     "output_type": "stream",
     "text": [
      "scalar_X Columns:  Index(['subject_id', 'activity', 'trial_index', 'semg_1_td_mean',\n",
      "       'semg_1_td_rms', 'semg_1_td_sd', 'semg_1_td_var', 'semg_1_td_iemg',\n",
      "       'semg_1_td_zcr', 'semg_1_td_ssc',\n",
      "       ...\n",
      "       'semg_1_fd_medfreq_10', 'semg_1_fd_meanfreq_10', 'semg_2_fd_medfreq_10',\n",
      "       'semg_2_fd_meanfreq_10', 'semg_3_fd_medfreq_10',\n",
      "       'semg_3_fd_meanfreq_10', 'semg_4_fd_medfreq_10',\n",
      "       'semg_4_fd_meanfreq_10', 'semg_5_fd_medfreq_10',\n",
      "       'semg_5_fd_meanfreq_10'],\n",
      "      dtype='object', length=553)\n"
     ]
    },
    {
     "data": {
      "text/plain": [
       "0       20\n",
       "1       20\n",
       "2       20\n",
       "3       20\n",
       "4       20\n",
       "        ..\n",
       "1171    11\n",
       "1172    11\n",
       "1173    11\n",
       "1174    11\n",
       "1175    11\n",
       "Name: activity, Length: 1176, dtype: int64"
      ]
     },
     "execution_count": 4,
     "metadata": {},
     "output_type": "execute_result"
    }
   ],
   "source": [
    "NO_WINDOWS = 10\n",
    "\n",
    "non_scalar_features = ['semg_1_fd_fft', 'semg_2_fd_fft', 'semg_3_fd_fft', 'semg_4_fd_fft', 'semg_5_fd_fft',\n",
    "                      'semg_1_fd_psd', 'semg_2_fd_psd', 'semg_3_fd_psd', 'semg_4_fd_psd', 'semg_5_fd_psd',\n",
    "                      'semg_1_tfd_stft', 'semg_2_tfd_stft', 'semg_3_tfd_stft', 'semg_4_tfd_stft', 'semg_5_tfd_stft',\n",
    "                      'semg_1_tfd_mfcc', 'semg_2_tfd_mfcc', 'semg_3_tfd_mfcc', 'semg_4_tfd_mfcc', 'semg_5_tfd_mfcc',\n",
    "                      'semg_1_tfd_hjorth', 'semg_2_tfd_hjorth', 'semg_3_tfd_hjorth', 'semg_4_tfd_hjorth', 'semg_5_tfd_hjorth',\n",
    "                      'semg_1_tfd_arcoeffs', 'semg_2_tfd_arcoeffs', 'semg_3_tfd_arcoeffs', 'semg_4_tfd_arcoeffs', 'semg_5_tfd_arcoeffs']\n",
    "\n",
    "# non_scalar_features = non_scalar_features + [f\"{item}_{suffix}\" for item in non_scalar_features for suffix in range(1, NO_WINDOWS + 1)]\n",
    "# print(non_scalar_features)\n",
    "\n",
    "# scalar_X = semg_df.drop(columns=non_scalar_features)\n",
    "scalar_X = semg_df\n",
    "print('scalar_X Columns: ', scalar_X.columns)\n",
    "\n",
    "# X = semg_df.drop(columns=['activity'])#.astype('float32')\n",
    "y = semg_df['activity'].astype('int')\n",
    "\n",
    "# Normalize features\n",
    "scaler = StandardScaler()\n",
    "scalar_X = pd.DataFrame(scaler.fit_transform(scalar_X), columns=scalar_X.columns)\n",
    "\n",
    "y"
   ]
  },
  {
   "cell_type": "markdown",
   "metadata": {
    "id": "WOjM7D9evips"
   },
   "source": [
    "Applying PCA to the Scalar features."
   ]
  },
  {
   "cell_type": "code",
   "execution_count": 5,
   "metadata": {
    "colab": {
     "base_uri": "https://localhost:8080/",
     "height": 564
    },
    "id": "5ARVwbvDvLSH",
    "outputId": "3f561e81-7245-4b32-9e50-6fc9388d9ed8"
   },
   "outputs": [
    {
     "data": {
      "image/png": "[encoded data removed]",
      "text/plain": [
       "<Figure size 576x432 with 1 Axes>"
      ]
     },
     "metadata": {
      "needs_background": "light"
     },
     "output_type": "display_data"
    }
   ],
   "source": [
    "import matplotlib.pyplot as plt\n",
    "from sklearn.decomposition import PCA\n",
    "\n",
    "# Apply PCA\n",
    "pca = PCA(n_components=0.99)  # Preserve 99% of the total variance\n",
    "pca_data = pca.fit_transform(scalar_X)\n",
    "\n",
    "# Plot the scree plot\n",
    "explained_variance_ratio = pca.explained_variance_ratio_\n",
    "cumulative_variance_ratio = np.cumsum(explained_variance_ratio)\n",
    "\n",
    "plt.figure(figsize=(8, 6))\n",
    "plt.bar(range(1, len(explained_variance_ratio) + 1), explained_variance_ratio, align='center', label='Explained Variance Ratio')\n",
    "plt.plot(range(1, len(explained_variance_ratio) + 1), cumulative_variance_ratio, marker='o', color='orange', label='Cumulative Explained Variance Ratio')\n",
    "plt.xlabel('Principal Component')\n",
    "plt.ylabel('Explained Variance Ratio')\n",
    "plt.title('Scree Plot')\n",
    "plt.legend()\n",
    "plt.show()\n"
   ]
  },
  {
   "cell_type": "code",
   "execution_count": 6,
   "metadata": {},
   "outputs": [
    {
     "data": {
      "application/vnd.jupyter.widget-view+json": {
       "model_id": "fcf3613fb1c44b9a85c2eeb13fd41447",
       "version_major": 2,
       "version_minor": 0
      },
      "text/plain": [
       "interactive(children=(SelectMultiple(description='Choose Activities:', options=(20, 16, 9, 17, 6, 18, 7, 19, 1…"
      ]
     },
     "metadata": {},
     "output_type": "display_data"
    },
    {
     "data": {
      "text/plain": [
       "<function __main__.plot_pca_scatter(selected_activities)>"
      ]
     },
     "execution_count": 6,
     "metadata": {},
     "output_type": "execute_result"
    }
   ],
   "source": [
    "import matplotlib.pyplot as plt\n",
    "import numpy as np\n",
    "from ipywidgets import interact, widgets\n",
    "\n",
    "# Extract the 'activity' column\n",
    "activity_labels = y\n",
    "\n",
    "# Get unique activities and assign a color to each\n",
    "unique_activities = activity_labels.unique()\n",
    "activity_colors = ['blue', 'green', 'red', 'purple', 'orange', 'pink', 'brown', 'cyan', 'lime',\n",
    "                   'gold', 'indigo', 'magenta', 'yellow', 'teal', 'maroon', 'olive', 'navy', 'gray',\n",
    "                   'black', 'silver', 'crimson']\n",
    "\n",
    "# Plot the 2D scatter plot with colored data points based on 'activity'\n",
    "def plot_pca_scatter(selected_activities):\n",
    "    plt.figure(figsize=(10, 8))\n",
    "    for i, activity in enumerate(selected_activities):\n",
    "        mask = (activity_labels == activity)\n",
    "        plt.scatter(pca_data[mask, 0], pca_data[mask, 1], c=[activity_colors[i]], marker='o', alpha=0.5, label=activity)\n",
    "\n",
    "    plt.title('2D Scatter Plot of PCA Components')\n",
    "    plt.xlabel('PCA Component 1')\n",
    "    plt.ylabel('PCA Component 2')\n",
    "    plt.legend()\n",
    "    plt.grid(True)\n",
    "    plt.show()\n",
    "\n",
    "# Create a multi-select widget to choose activities\n",
    "activity_chooser = widgets.SelectMultiple(options=unique_activities, description='Choose Activities:')\n",
    "\n",
    "# Use the interact function to dynamically update the scatter plot based on the selected activities\n",
    "interact(plot_pca_scatter, selected_activities=activity_chooser)\n"
   ]
  },
  {
   "cell_type": "code",
   "execution_count": 7,
   "metadata": {},
   "outputs": [
    {
     "data": {
      "application/vnd.jupyter.widget-view+json": {
       "model_id": "ddb78bdec67c49e7a049413a3d47cd26",
       "version_major": 2,
       "version_minor": 0
      },
      "text/plain": [
       "interactive(children=(SelectMultiple(description='Choose Activities:', options=(20, 16, 9, 17, 6, 18, 7, 19, 1…"
      ]
     },
     "metadata": {},
     "output_type": "display_data"
    },
    {
     "data": {
      "text/plain": [
       "<function __main__.plot_pca_3d_scatter(selected_activities)>"
      ]
     },
     "execution_count": 7,
     "metadata": {},
     "output_type": "execute_result"
    }
   ],
   "source": [
    "import matplotlib.pyplot as plt\n",
    "from mpl_toolkits.mplot3d import Axes3D\n",
    "from sklearn.decomposition import PCA\n",
    "import numpy as np\n",
    "from ipywidgets import interact, widgets\n",
    "\n",
    "\n",
    "def plot_pca_3d_scatter(selected_activities):\n",
    "    fig = plt.figure(figsize=(10, 8))\n",
    "    ax = fig.add_subplot(111, projection='3d')\n",
    "    \n",
    "    for i, activity in enumerate(selected_activities):\n",
    "        mask = (activity_labels == activity)\n",
    "        ax.scatter(pca_data[mask, 0], pca_data[mask, 1], pca_data[mask, 2], c=[activity_colors[i]],\n",
    "                   marker='o', alpha=0.5, label=activity)\n",
    "\n",
    "    ax.set_title('3D Scatter Plot of PCA Components')\n",
    "    ax.set_xlabel('PCA Component 1')\n",
    "    ax.set_ylabel('PCA Component 2')\n",
    "    ax.set_zlabel('PCA Component 3')\n",
    "    ax.legend()\n",
    "\n",
    "    # Set initial view and enable mouse interaction\n",
    "    ax.view_init(elev=20, azim=30)  # Set the initial view angle\n",
    "    ax.mouse_init()\n",
    "\n",
    "    plt.show()\n",
    "\n",
    "# Create a multi-select widget to choose activities\n",
    "activity_chooser = widgets.SelectMultiple(options=unique_activities, description='Choose Activities:')\n",
    "\n",
    "# Use the interact function to dynamically update the scatter plot based on the selected activities\n",
    "interact(plot_pca_3d_scatter, selected_activities=activity_chooser)\n"
   ]
  },
  {
   "cell_type": "code",
   "execution_count": 8,
   "metadata": {},
   "outputs": [
    {
     "data": {
      "application/vnd.jupyter.widget-view+json": {
       "model_id": "7184e88a55c7435ab5df9db4cad5d773",
       "version_major": 2,
       "version_minor": 0
      },
      "text/plain": [
       "interactive(children=(SelectMultiple(description='Select Activities', index=(0, 1, 2, 3, 4, 5, 6, 7, 8, 9, 10,…"
      ]
     },
     "metadata": {},
     "output_type": "display_data"
    },
    {
     "data": {
      "text/plain": [
       "<function __main__.update_scatter(selected_activities)>"
      ]
     },
     "execution_count": 8,
     "metadata": {},
     "output_type": "execute_result"
    }
   ],
   "source": [
    "import plotly.express as px\n",
    "from ipywidgets import interact, SelectMultiple\n",
    "from sklearn.decomposition import PCA\n",
    "import pandas as pd\n",
    "\n",
    "# Create a DataFrame with the PCA components\n",
    "pca_df = pd.DataFrame(data=pca_data[:, :3], columns=['PCA1', 'PCA2', 'PCA3'])\n",
    "\n",
    "# Add activity labels to the PCA DataFrame\n",
    "pca_df['activity'] = activity_labels\n",
    "\n",
    "# Get unique activity labels\n",
    "unique_activities = pca_df['activity'].unique()\n",
    "\n",
    "# Create a multi-select widget for activity selection\n",
    "activity_selector = SelectMultiple(options=unique_activities, value=tuple(unique_activities), description='Select Activities')\n",
    "\n",
    "# Function to update the scatter plot based on selected activities\n",
    "def update_scatter(selected_activities):\n",
    "    filtered_df = pca_df[pca_df['activity'].isin(selected_activities)]\n",
    "    fig = px.scatter_3d(filtered_df, x='PCA1', y='PCA2', z='PCA3', color='activity')\n",
    "    fig.show()\n",
    "\n",
    "# Create an interactive 3D scatter plot using Plotly\n",
    "interact(update_scatter, selected_activities=activity_selector)\n"
   ]
  },
  {
   "cell_type": "code",
   "execution_count": 9,
   "metadata": {},
   "outputs": [],
   "source": [
    "# import numpy as np\n",
    "# import pandas as pd\n",
    "# import matplotlib.pyplot as plt\n",
    "# from sklearn.preprocessing import StandardScaler\n",
    "# from sklearn.manifold import TSNE\n",
    "# import umap.umap_ as umap\n",
    "# from sklearn.datasets import load_iris\n",
    "\n",
    "# # Load example data (replace this with your scalar_X and activity_labels)\n",
    "# data = load_iris()\n",
    "# scalar_X = data.data\n",
    "# activity_labels = data.target\n",
    "\n",
    "# print(\"TSNE fitting..\")\n",
    "\n",
    "# # Apply t-SNE\n",
    "# tsne = TSNE(n_components=3, random_state=42)\n",
    "# tsne_components = tsne.fit_transform(scalar_X)\n",
    "# print(\"TSNE fit completed!\")\n",
    "\n",
    "\n",
    "# # Apply UMAP\n",
    "# print(\"UMAP fitting..\")\n",
    "# umap_reducer = umap.UMAP(n_components=3, random_state=42)\n",
    "# umap_components = umap_reducer.fit_transform(scalar_X)\n",
    "# print(\"UMAP fit completed!\")\n",
    "\n",
    "# # Create DataFrame with t-SNE components and UMAP components\n",
    "# tsne_df = pd.DataFrame(data=tsne_components, columns=['TSNE1', 'TSNE2', 'TSNE3'])\n",
    "# umap_df = pd.DataFrame(data=umap_components, columns=['UMAP1', 'UMAP2', 'UMAP3'])\n",
    "\n",
    "# # Add activity labels to the components DataFrames\n",
    "# tsne_df['activity'] = activity_labels\n",
    "# umap_df['activity'] = activity_labels\n",
    "\n",
    "# print(\"Plotting data now..\")\n",
    "\n",
    "# # Create 3D scatter plot using Matplotlib\n",
    "# def plot_3d_scatter(data_df, title):\n",
    "#     fig = plt.figure(figsize=(8, 6))\n",
    "#     ax = fig.add_subplot(111, projection='3d')\n",
    "    \n",
    "#     # Define a color map for different activities\n",
    "#     cmap = plt.get_cmap('tab20')\n",
    "    \n",
    "#     # Scatter plot for each activity\n",
    "#     for i, activity in enumerate(data_df['activity'].unique()):\n",
    "#         activity_data = data_df[data_df['activity'] == activity]\n",
    "#         ax.scatter(\n",
    "#             activity_data['TSNE1'], activity_data['TSNE2'], activity_data['TSNE3'],\n",
    "#             c=[cmap(i)],\n",
    "#             label=f'Activity {activity}'\n",
    "#         )\n",
    "    \n",
    "#     ax.set_title(title)\n",
    "#     ax.set_xlabel('TSNE1')\n",
    "#     ax.set_ylabel('TSNE2')\n",
    "#     ax.set_zlabel('TSNE3')\n",
    "#     ax.legend()\n",
    "#     plt.show()\n",
    "\n",
    "# # Plot t-SNE 3D scatter plot\n",
    "# plot_3d_scatter(tsne_df, title='t-SNE 3D Scatter Plot')\n",
    "\n",
    "# # Plot UMAP 3D scatter plot\n",
    "# plot_3d_scatter(umap_df, title='UMAP 3D Scatter Plot')"
   ]
  },
  {
   "cell_type": "code",
   "execution_count": 10,
   "metadata": {},
   "outputs": [],
   "source": [
    "# import pandas as pd\n",
    "# import numpy as np\n",
    "# import matplotlib.pyplot as plt\n",
    "# import seaborn as sns\n",
    "# from sklearn.preprocessing import StandardScaler\n",
    "# from sklearn.cluster import KMeans, AgglomerativeClustering, DBSCAN\n",
    "# from sklearn.metrics import silhouette_score\n",
    "\n",
    "# # Drop the non-feature columns\n",
    "# feature_cols = semg_df.columns\n",
    "# df_features = semg_df.drop(columns=['subject_id', 'activity', 'trial_index'])\n",
    "\n",
    "# scaler = StandardScaler()\n",
    "# df_scaled = scaler.fit_transform(df_features)\n",
    "\n",
    "# # K-means Clustering\n",
    "# n_clusters = 21\n",
    "# kmeans = KMeans(n_clusters=n_clusters, random_state=42)\n",
    "# kmeans_labels = kmeans.fit_predict(df_scaled)\n",
    "\n",
    "# # Evaluate K-means Clustering\n",
    "# silhouette_avg_kmeans = silhouette_score(df_scaled, kmeans_labels)\n",
    "# print(f\"K-means silhouette score: {silhouette_avg_kmeans}\")\n",
    "\n",
    "# # Agglomerative Clustering\n",
    "# agg_clustering = AgglomerativeClustering(n_clusters=n_clusters)\n",
    "# agg_labels = agg_clustering.fit_predict(df_scaled)\n",
    "\n",
    "# # Evaluate Agglomerative Clustering\n",
    "# silhouette_avg_agg = silhouette_score(df_scaled, agg_labels)\n",
    "# print(f\"Agglomerative silhouette score: {silhouette_avg_agg}\")\n",
    "\n",
    "# # DBSCAN Clustering\n",
    "# dbscan = DBSCAN(eps=0.5, min_samples=5)\n",
    "# dbscan_labels = dbscan.fit_predict(df_scaled)\n",
    "\n",
    "# # Filter out noise points for DBSCAN silhouette score\n",
    "# dbscan_core_samples_mask = np.zeros_like(dbscan_labels, dtype=bool)\n",
    "# dbscan_core_samples_mask[dbscan_labels != -1] = True\n",
    "# if len(set(dbscan_labels)) > 1:  # more than 1 cluster and noise\n",
    "#     silhouette_avg_dbscan = silhouette_score(df_scaled[dbscan_core_samples_mask], dbscan_labels[dbscan_core_samples_mask])\n",
    "#     print(f\"DBSCAN silhouette score: {silhouette_avg_dbscan}\")\n",
    "\n",
    "# # Plotting clusters\n",
    "# semg_df['kmeans_labels'] = kmeans_labels\n",
    "# semg_df['agg_labels'] = agg_labels\n",
    "# semg_df['dbscan_labels'] = dbscan_labels\n",
    "\n",
    "# sns.pairplot(semg_df, hue='activity', vars=feature_cols, palette='Dark2', plot_kws={'alpha': 0.5})\n",
    "# plt.title(\"Original Activities\")\n",
    "# plt.show()\n",
    "\n",
    "# sns.pairplot(semg_df, hue='kmeans_labels', vars=feature_cols, palette='Dark2', plot_kws={'alpha': 0.5})\n",
    "# plt.title(\"K-means Clusters\")\n",
    "# plt.show()\n",
    "\n",
    "# sns.pairplot(semg_df, hue='agg_labels', vars=feature_cols, palette='Dark2', plot_kws={'alpha': 0.5})\n",
    "# plt.title(\"Agglomerative Clusters\")\n",
    "# plt.show()\n",
    "\n",
    "# sns.pairplot(semg_df, hue='dbscan_labels', vars=feature_cols, palette='Dark2', plot_kws={'alpha': 0.5})\n",
    "# plt.title(\"DBSCAN Clusters\")\n",
    "# plt.show()\n"
   ]
  },
  {
   "cell_type": "code",
   "execution_count": 11,
   "metadata": {},
   "outputs": [
    {
     "name": "stdout",
     "output_type": "stream",
     "text": [
      "Requirement already satisfied: datashader in /Users/sauravdas221/opt/anaconda3/lib/python3.9/site-packages (0.13.0)\n",
      "Requirement already satisfied: pandas>=0.24.1 in /Users/sauravdas221/opt/anaconda3/lib/python3.9/site-packages (from datashader) (1.5.3)\n",
      "Requirement already satisfied: dask[complete]>=0.18.0 in /Users/sauravdas221/opt/anaconda3/lib/python3.9/site-packages (from datashader) (2022.2.1)\n",
      "Requirement already satisfied: scipy in /Users/sauravdas221/opt/anaconda3/lib/python3.9/site-packages (from datashader) (1.10.1)\n",
      "Requirement already satisfied: numba>=0.51 in /Users/sauravdas221/opt/anaconda3/lib/python3.9/site-packages (from datashader) (0.55.1)\n",
      "Requirement already satisfied: pillow>=3.1.1 in /Users/sauravdas221/opt/anaconda3/lib/python3.9/site-packages (from datashader) (9.0.1)\n",
      "Requirement already satisfied: param>=1.6.1 in /Users/sauravdas221/opt/anaconda3/lib/python3.9/site-packages (from datashader) (1.12.0)\n",
      "Requirement already satisfied: colorcet>=0.9.0 in /Users/sauravdas221/opt/anaconda3/lib/python3.9/site-packages (from datashader) (2.0.6)\n",
      "Requirement already satisfied: datashape>=0.5.1 in /Users/sauravdas221/opt/anaconda3/lib/python3.9/site-packages (from datashader) (0.5.4)\n",
      "Requirement already satisfied: pyct>=0.4.5 in /Users/sauravdas221/opt/anaconda3/lib/python3.9/site-packages (from datashader) (0.4.6)\n",
      "Requirement already satisfied: xarray>=0.9.6 in /Users/sauravdas221/opt/anaconda3/lib/python3.9/site-packages (from datashader) (0.20.1)\n",
      "Requirement already satisfied: numpy>=1.7 in /Users/sauravdas221/opt/anaconda3/lib/python3.9/site-packages (from datashader) (1.21.6)\n",
      "Requirement already satisfied: toolz>=0.8.2 in /Users/sauravdas221/opt/anaconda3/lib/python3.9/site-packages (from dask[complete]>=0.18.0->datashader) (0.11.2)\n",
      "Requirement already satisfied: cloudpickle>=1.1.1 in /Users/sauravdas221/opt/anaconda3/lib/python3.9/site-packages (from dask[complete]>=0.18.0->datashader) (2.0.0)\n",
      "Requirement already satisfied: pyyaml>=5.3.1 in /Users/sauravdas221/opt/anaconda3/lib/python3.9/site-packages (from dask[complete]>=0.18.0->datashader) (6.0)\n",
      "Requirement already satisfied: packaging>=20.0 in /Users/sauravdas221/opt/anaconda3/lib/python3.9/site-packages (from dask[complete]>=0.18.0->datashader) (21.3)\n",
      "Requirement already satisfied: partd>=0.3.10 in /Users/sauravdas221/opt/anaconda3/lib/python3.9/site-packages (from dask[complete]>=0.18.0->datashader) (1.2.0)\n",
      "Requirement already satisfied: fsspec>=0.6.0 in /Users/sauravdas221/opt/anaconda3/lib/python3.9/site-packages (from dask[complete]>=0.18.0->datashader) (2022.2.0)\n",
      "Requirement already satisfied: distributed==2022.02.1 in /Users/sauravdas221/opt/anaconda3/lib/python3.9/site-packages (from dask[complete]>=0.18.0->datashader) (2022.2.1)\n",
      "Requirement already satisfied: bokeh>=2.1.1 in /Users/sauravdas221/opt/anaconda3/lib/python3.9/site-packages (from dask[complete]>=0.18.0->datashader) (2.4.2)\n",
      "Requirement already satisfied: jinja2 in /Users/sauravdas221/opt/anaconda3/lib/python3.9/site-packages (from dask[complete]>=0.18.0->datashader) (2.11.3)\n",
      "Requirement already satisfied: tornado>=6.0.3 in /Users/sauravdas221/opt/anaconda3/lib/python3.9/site-packages (from distributed==2022.02.1->dask[complete]>=0.18.0->datashader) (6.1)\n",
      "Requirement already satisfied: tblib>=1.6.0 in /Users/sauravdas221/opt/anaconda3/lib/python3.9/site-packages (from distributed==2022.02.1->dask[complete]>=0.18.0->datashader) (1.7.0)\n",
      "Requirement already satisfied: msgpack>=0.6.0 in /Users/sauravdas221/opt/anaconda3/lib/python3.9/site-packages (from distributed==2022.02.1->dask[complete]>=0.18.0->datashader) (1.0.2)\n",
      "Requirement already satisfied: click>=6.6 in /Users/sauravdas221/opt/anaconda3/lib/python3.9/site-packages (from distributed==2022.02.1->dask[complete]>=0.18.0->datashader) (8.0.4)\n",
      "Requirement already satisfied: setuptools in /Users/sauravdas221/opt/anaconda3/lib/python3.9/site-packages (from distributed==2022.02.1->dask[complete]>=0.18.0->datashader) (61.2.0)\n",
      "Requirement already satisfied: psutil>=5.0 in /Users/sauravdas221/opt/anaconda3/lib/python3.9/site-packages (from distributed==2022.02.1->dask[complete]>=0.18.0->datashader) (5.8.0)\n",
      "Requirement already satisfied: zict>=0.1.3 in /Users/sauravdas221/opt/anaconda3/lib/python3.9/site-packages (from distributed==2022.02.1->dask[complete]>=0.18.0->datashader) (2.0.0)\n",
      "Requirement already satisfied: sortedcontainers!=2.0.0,!=2.0.1 in /Users/sauravdas221/opt/anaconda3/lib/python3.9/site-packages (from distributed==2022.02.1->dask[complete]>=0.18.0->datashader) (2.4.0)\n",
      "Requirement already satisfied: typing-extensions>=3.10.0 in /Users/sauravdas221/opt/anaconda3/lib/python3.9/site-packages (from bokeh>=2.1.1->dask[complete]>=0.18.0->datashader) (4.1.1)\n",
      "Requirement already satisfied: multipledispatch>=0.4.7 in /Users/sauravdas221/opt/anaconda3/lib/python3.9/site-packages (from datashape>=0.5.1->datashader) (0.6.0)\n",
      "Requirement already satisfied: python-dateutil in /Users/sauravdas221/opt/anaconda3/lib/python3.9/site-packages (from datashape>=0.5.1->datashader) (2.8.2)\n",
      "Requirement already satisfied: MarkupSafe>=0.23 in /Users/sauravdas221/opt/anaconda3/lib/python3.9/site-packages (from jinja2->dask[complete]>=0.18.0->datashader) (2.0.1)\n",
      "Requirement already satisfied: six in /Users/sauravdas221/opt/anaconda3/lib/python3.9/site-packages (from multipledispatch>=0.4.7->datashape>=0.5.1->datashader) (1.16.0)\n",
      "Requirement already satisfied: llvmlite<0.39,>=0.38.0rc1 in /Users/sauravdas221/opt/anaconda3/lib/python3.9/site-packages (from numba>=0.51->datashader) (0.38.0)\n",
      "Requirement already satisfied: pyparsing!=3.0.5,>=2.0.2 in /Users/sauravdas221/opt/anaconda3/lib/python3.9/site-packages (from packaging>=20.0->dask[complete]>=0.18.0->datashader) (3.0.4)\n",
      "Requirement already satisfied: pytz>=2020.1 in /Users/sauravdas221/opt/anaconda3/lib/python3.9/site-packages (from pandas>=0.24.1->datashader) (2021.3)\n",
      "Requirement already satisfied: locket in /Users/sauravdas221/opt/anaconda3/lib/python3.9/site-packages (from partd>=0.3.10->dask[complete]>=0.18.0->datashader) (0.2.1)\n",
      "Requirement already satisfied: heapdict in /Users/sauravdas221/opt/anaconda3/lib/python3.9/site-packages (from zict>=0.1.3->distributed==2022.02.1->dask[complete]>=0.18.0->datashader) (1.0.1)\n"
     ]
    },
    {
     "name": "stderr",
     "output_type": "stream",
     "text": [
      "/Users/sauravdas221/opt/anaconda3/lib/python3.9/site-packages/sklearn/cluster/_kmeans.py:870: FutureWarning:\n",
      "\n",
      "The default value of `n_init` will change from 10 to 'auto' in 1.4. Set the value of `n_init` explicitly to suppress the warning\n",
      "\n"
     ]
    },
    {
     "name": "stdout",
     "output_type": "stream",
     "text": [
      "K-means silhouette score: 0.25868356135117376\n",
      "Agglomerative silhouette score: 0.23676928242145362\n"
     ]
    },
    {
     "data": {
      "image/png": "[encoded data removed]",
      "text/html": [
       "<img style=\"margin: auto; border:1px solid\" src='data:image/png;base64,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'/>"
      ],
      "text/plain": [
       "<xarray.Image (PCA2: 600, PCA1: 800)>\n",
       "array([[7102319, 7102319, 7102319, ..., 7102319, 7102319, 7102319],\n",
       "       [7102319, 7102319, 7102319, ..., 7102319, 7102319, 7102319],\n",
       "       [7102319, 7102319, 7102319, ..., 7102319, 7102319, 7102319],\n",
       "       ...,\n",
       "       [7102319, 7102319, 7102319, ..., 7102319, 7102319, 7102319],\n",
       "       [7102319, 7102319, 7102319, ..., 7102319, 7102319, 7102319],\n",
       "       [7102319, 7102319, 7102319, ..., 7102319, 7102319, 7102319]],\n",
       "      dtype=uint32)\n",
       "Coordinates:\n",
       "  * PCA1     (PCA1) float64 -14.2 -14.15 -14.09 -14.03 ... 32.19 32.25 32.31\n",
       "  * PCA2     (PCA2) float64 -17.12 -17.03 -16.95 -16.86 ... 33.21 33.29 33.38"
      ]
     },
     "metadata": {},
     "output_type": "display_data"
    },
    {
     "data": {
      "image/png": "[encoded data removed]",
      "text/html": [
       "<img style=\"margin: auto; border:1px solid\" src='data:image/png;base64,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'/>"
      ],
      "text/plain": [
       "<xarray.Image (PCA2: 600, PCA1: 800)>\n",
       "array([[7102319, 7102319, 7102319, ..., 7102319, 7102319, 7102319],\n",
       "       [7102319, 7102319, 7102319, ..., 7102319, 7102319, 7102319],\n",
       "       [7102319, 7102319, 7102319, ..., 7102319, 7102319, 7102319],\n",
       "       ...,\n",
       "       [7102319, 7102319, 7102319, ..., 7102319, 7102319, 7102319],\n",
       "       [7102319, 7102319, 7102319, ..., 7102319, 7102319, 7102319],\n",
       "       [7102319, 7102319, 7102319, ..., 7102319, 7102319, 7102319]],\n",
       "      dtype=uint32)\n",
       "Coordinates:\n",
       "  * PCA1     (PCA1) float64 -14.2 -14.15 -14.09 -14.03 ... 32.19 32.25 32.31\n",
       "  * PCA2     (PCA2) float64 -17.12 -17.03 -16.95 -16.86 ... 33.21 33.29 33.38"
      ]
     },
     "metadata": {},
     "output_type": "display_data"
    },
    {
     "data": {
      "image/png": "[encoded data removed]",
      "text/html": [
       "<img style=\"margin: auto; border:1px solid\" src='data:image/png;base64,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'/>"
      ],
      "text/plain": [
       "<xarray.Image (PCA2: 600, PCA1: 800)>\n",
       "array([[7102319, 7102319, 7102319, ..., 7102319, 7102319, 7102319],\n",
       "       [7102319, 7102319, 7102319, ..., 7102319, 7102319, 7102319],\n",
       "       [7102319, 7102319, 7102319, ..., 7102319, 7102319, 7102319],\n",
       "       ...,\n",
       "       [7102319, 7102319, 7102319, ..., 7102319, 7102319, 7102319],\n",
       "       [7102319, 7102319, 7102319, ..., 7102319, 7102319, 7102319],\n",
       "       [7102319, 7102319, 7102319, ..., 7102319, 7102319, 7102319]],\n",
       "      dtype=uint32)\n",
       "Coordinates:\n",
       "  * PCA1     (PCA1) float64 -14.2 -14.15 -14.09 -14.03 ... 32.19 32.25 32.31\n",
       "  * PCA2     (PCA2) float64 -17.12 -17.03 -16.95 -16.86 ... 33.21 33.29 33.38"
      ]
     },
     "metadata": {},
     "output_type": "display_data"
    }
   ],
   "source": [
    "!pip install datashader\n",
    "\n",
    "import pandas as pd\n",
    "import numpy as np\n",
    "\n",
    "import matplotlib.pyplot as plt\n",
    "\n",
    "from sklearn.preprocessing import StandardScaler\n",
    "from sklearn.cluster import KMeans, AgglomerativeClustering\n",
    "from sklearn.metrics import silhouette_score\n",
    "from sklearn.decomposition import PCA\n",
    "\n",
    "import datashader as ds\n",
    "import datashader.transfer_functions as tf\n",
    "\n",
    "from colorcet import palette\n",
    "from IPython.display import display\n",
    "\n",
    "# Assuming you have a DataFrame named semg_df\n",
    "feature_cols = semg_df.columns[4:]\n",
    "df_features = semg_df[feature_cols]\n",
    "\n",
    "# Standardize the features\n",
    "scaler = StandardScaler()\n",
    "df_scaled = scaler.fit_transform(df_features)\n",
    "\n",
    "# Dimensionality reduction using PCA\n",
    "pca = PCA(n_components=10)\n",
    "df_scaled_pca = pca.fit_transform(df_scaled)\n",
    "\n",
    "# Number of clusters\n",
    "n_clusters = 21\n",
    "\n",
    "# K-means Clustering\n",
    "kmeans = KMeans(n_clusters=n_clusters, random_state=0)\n",
    "kmeans_labels = kmeans.fit_predict(df_scaled_pca)\n",
    "silhouette_avg_kmeans = silhouette_score(df_scaled_pca, kmeans_labels)\n",
    "print(f\"K-means silhouette score: {silhouette_avg_kmeans}\")\n",
    "\n",
    "# Agglomerative Clustering\n",
    "agg_clustering = AgglomerativeClustering(n_clusters=n_clusters)\n",
    "agg_labels = agg_clustering.fit_predict(df_scaled_pca)\n",
    "silhouette_avg_agg = silhouette_score(df_scaled_pca, agg_labels)\n",
    "print(f\"Agglomerative silhouette score: {silhouette_avg_agg}\")\n",
    "\n",
    "# Adding cluster labels back to the DataFrame\n",
    "semg_df['kmeans_labels'] = kmeans_labels\n",
    "semg_df['agg_labels'] = agg_labels\n",
    "\n",
    "\n",
    "def datashader_plot(df, col, title):\n",
    "    canvas = ds.Canvas(x_range=(df['PCA1'].min(), df['PCA1'].max()), \n",
    "                       y_range=(df['PCA2'].min(), df['PCA2'].max()), \n",
    "                       plot_width=800, plot_height=600)\n",
    "    \n",
    "    agg = canvas.points(df, 'PCA1', 'PCA2', ds.count_cat(col))\n",
    "    \n",
    "    # Get the number of unique categories\n",
    "    n_cats = len(df[col].cat.categories)\n",
    "    \n",
    "    # Generate a palette with n_cats unique colors\n",
    "    color_key = palette['glasbey_dark'][0:n_cats]\n",
    "    \n",
    "    img = ds.transfer_functions.shade(agg, color_key=color_key, how='eq_hist')\n",
    "    ds.utils.export_image(img=img, filename=title, background=\"black\")\n",
    "    display(img)  # Display the image\n",
    "\n",
    "# Reduce dimensions to 2 for Datashader plotting\n",
    "pca_2d = PCA(n_components=2)\n",
    "df_2d = pd.DataFrame(pca_2d.fit_transform(df_scaled), columns=['PCA1', 'PCA2'])\n",
    "df_2d['activity'] = pd.Series(semg_df['activity']).astype('category')\n",
    "df_2d['kmeans_labels'] = pd.Series(kmeans_labels).astype('category')\n",
    "df_2d['agg_labels'] = pd.Series(agg_labels).astype('category')\n",
    "\n",
    "# Plot using Datashader\n",
    "datashader_plot(df_2d, 'activity', \"Original Activities\")\n",
    "datashader_plot(df_2d, 'kmeans_labels', \"K-means Clusters\")\n",
    "datashader_plot(df_2d, 'agg_labels', \"Agglomerative Clusters\")\n"
   ]
  },
  {
   "cell_type": "code",
   "execution_count": null,
   "metadata": {},
   "outputs": [],
   "source": []
  }
 ],
 "metadata": {
  "accelerator": "GPU",
  "colab": {
   "gpuType": "A100",
   "machine_shape": "hm",
   "provenance": []
  },
  "kernelspec": {
   "display_name": "Python 3 (ipykernel)",
   "language": "python",
   "name": "python3"
  },
  "language_info": {
   "codemirror_mode": {
    "name": "ipython",
    "version": 3
   },
   "file_extension": ".py",
   "mimetype": "text/x-python",
   "name": "python",
   "nbconvert_exporter": "python",
   "pygments_lexer": "ipython3",
   "version": "3.9.12"
  }
 },
 "nbformat": 4,
 "nbformat_minor": 1
}
