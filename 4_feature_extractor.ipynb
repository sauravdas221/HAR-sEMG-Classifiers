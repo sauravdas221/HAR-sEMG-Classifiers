{
 "cells": [
  {
   "cell_type": "code",
   "execution_count": 1,
   "id": "a006b854",
   "metadata": {
    "colab": {
     "base_uri": "https://localhost:8080/"
    },
    "executionInfo": {
     "elapsed": 37136,
     "status": "ok",
     "timestamp": 1691788522089,
     "user": {
      "displayName": "Saurav Das",
      "userId": "07719429245289991461"
     },
     "user_tz": -60
    },
    "id": "a006b854",
    "outputId": "106630e3-df51-4508-a421-90bcfbdd0216"
   },
   "outputs": [
    {
     "data": {
      "text/html": [
       "<style>.container { width:100% !important; }</style>"
      ],
      "text/plain": [
       "<IPython.core.display.HTML object>"
      ]
     },
     "metadata": {},
     "output_type": "display_data"
    }
   ],
   "source": [
    "# Remove these two lines when converting to .py files later.\n",
    "from IPython.display import display, HTML\n",
    "display(HTML(\"<style>.container { width:100% !important; }</style>\"))\n",
    "\n",
    "import time\n",
    "import pandas as pd\n",
    "import psycopg2\n",
    "\n",
    "# !pip install pyspark scipy sqlalchemy python_speech_features\n",
    "from sqlalchemy import create_engine\n",
    "\n",
    "from pyspark.sql import SparkSession\n",
    "from pyspark.sql import functions as F\n",
    "import pyspark.sql.types as T\n",
    "from pyspark.sql.window import Window\n",
    "\n",
    "import numpy as np\n",
    "import matplotlib.pyplot as plt\n",
    "import seaborn as sns\n",
    "\n",
    "from scipy import fftpack\n",
    "from scipy.integrate import cumtrapz\n",
    "from scipy import signal\n",
    "from scipy.signal import stft\n",
    "\n",
    "from python_speech_features import mfcc\n",
    "from statsmodels.tsa.ar_model import AutoReg\n"
   ]
  },
  {
   "cell_type": "code",
   "execution_count": 2,
   "id": "e9095b4b",
   "metadata": {
    "colab": {
     "base_uri": "https://localhost:8080/"
    },
    "executionInfo": {
     "elapsed": 4808,
     "status": "ok",
     "timestamp": 1691788609262,
     "user": {
      "displayName": "Saurav Das",
      "userId": "07719429245289991461"
     },
     "user_tz": -60
    },
    "id": "e9095b4b",
    "outputId": "548d31f6-80b2-406e-ddcb-9e89b107c81f"
   },
   "outputs": [
    {
     "name": "stderr",
     "output_type": "stream",
     "text": [
      "Setting default log level to \"WARN\".\n",
      "To adjust logging level use sc.setLogLevel(newLevel). For SparkR, use setLogLevel(newLevel).\n"
     ]
    },
    {
     "name": "stdout",
     "output_type": "stream",
     "text": [
      "23/08/20 22:56:48 WARN NativeCodeLoader: Unable to load native-hadoop library for your platform... using builtin-java classes where applicable\n",
      "23/08/20 22:56:49 WARN Utils: Service 'SparkUI' could not bind on port 4040. Attempting port 4041.\n",
      "Reading the CSV files..\n"
     ]
    },
    {
     "name": "stderr",
     "output_type": "stream",
     "text": [
      "                                                                                \r"
     ]
    },
    {
     "name": "stdout",
     "output_type": "stream",
     "text": [
      "root\n",
      " |-- subject_id: integer (nullable = true)\n",
      " |-- activity: integer (nullable = true)\n",
      " |-- trial_index: integer (nullable = true)\n",
      " |-- semg_1_list: array (nullable = true)\n",
      " |    |-- element: double (containsNull = true)\n",
      " |-- semg_2_list: array (nullable = true)\n",
      " |    |-- element: double (containsNull = true)\n",
      " |-- semg_3_list: array (nullable = true)\n",
      " |    |-- element: double (containsNull = true)\n",
      " |-- semg_4_list: array (nullable = true)\n",
      " |    |-- element: double (containsNull = true)\n",
      " |-- semg_5_list: array (nullable = true)\n",
      " |    |-- element: double (containsNull = true)\n",
      " |-- filtered_semg_1_list: array (nullable = true)\n",
      " |    |-- element: float (containsNull = true)\n",
      " |-- filtered_semg_2_list: array (nullable = true)\n",
      " |    |-- element: float (containsNull = true)\n",
      " |-- filtered_semg_3_list: array (nullable = true)\n",
      " |    |-- element: float (containsNull = true)\n",
      " |-- filtered_semg_4_list: array (nullable = true)\n",
      " |    |-- element: float (containsNull = true)\n",
      " |-- filtered_semg_5_list: array (nullable = true)\n",
      " |    |-- element: float (containsNull = true)\n",
      "\n",
      "Completed reading the CSV files.\n"
     ]
    }
   ],
   "source": [
    "# Create a SparkSession\n",
    "spark = SparkSession \\\n",
    "    .builder \\\n",
    "    .appName(\"Data Stager\") \\\n",
    "    .config(\"spark.driver.memory\", '8g') \\\n",
    "    .getOrCreate()\n",
    "\n",
    "spark.sparkContext.setLogLevel('ERROR')\n",
    "\n",
    "print(\"Reading the CSV files..\")\n",
    "semg_df = spark.read.parquet(\"denoised_grouped_semg_stage/\", header=True, inferSchema=True)\n",
    "\n",
    "semg_df = semg_df.withColumn('activity', semg_df['activity'].cast('integer')).withColumn('trial_index', semg_df['trial_index'].cast('integer'))\n",
    "semg_df.printSchema()\n",
    "print(\"Completed reading the CSV files.\")\n"
   ]
  },
  {
   "cell_type": "markdown",
   "id": "85f007d4",
   "metadata": {
    "id": "85f007d4"
   },
   "source": [
    "**Extracting Time Domain Features for each signal**\n"
   ]
  },
  {
   "cell_type": "code",
   "execution_count": 4,
   "id": "ea019cea",
   "metadata": {
    "executionInfo": {
     "elapsed": 988,
     "status": "ok",
     "timestamp": 1691788618278,
     "user": {
      "displayName": "Saurav Das",
      "userId": "07719429245289991461"
     },
     "user_tz": -60
    },
    "id": "ea019cea"
   },
   "outputs": [],
   "source": [
    "NO_WINDOWS = 5\n",
    "\n",
    "activity_length_map = {1: 16000, 2: 16000, 3: 16000, 4: 16000, 5: 16000, 6: 16000, 7: 16000, 8: 16000, 9: 16000, 10: 16000,\n",
    "              11: 22000, 12: 22000, 13: 22000, 14: 30000, 15: 40000, 16: 26000, 17: 30000, 18: 26000, 19: 26000, 20: 26000, 21: 26000}\n",
    "\n",
    "compute_mean = F.udf(lambda emg_signal, activity, x: calculate_mean(emg_signal, activity_length_map[activity]/NO_WINDOWS, activity, x), T.DoubleType())\n",
    "compute_root_mean_square = F.udf(lambda emg_signal, activity, x: calculate_root_mean_square(emg_signal, activity_length_map[activity]/NO_WINDOWS, activity, x), T.DoubleType())\n",
    "compute_standard_deviation = F.udf(lambda emg_signal, activity, x: calculate_standard_deviation(emg_signal, activity_length_map[activity]/NO_WINDOWS, activity, x), T.DoubleType())\n",
    "compute_variance = F.udf(lambda emg_signal, activity, x: calculate_variance(emg_signal, activity_length_map[activity]/NO_WINDOWS, activity, x), T.DoubleType())\n",
    "compute_iemg = F.udf(lambda emg_signal, activity, x: calculate_iemg(emg_signal, activity_length_map[activity]/NO_WINDOWS, activity, x), T.DoubleType())\n",
    "compute_zero_crossing_rate = F.udf(lambda emg_signal, activity, x: calculate_zero_crossing_rate(emg_signal, activity_length_map[activity]/NO_WINDOWS, activity, x), T.IntegerType())\n",
    "compute_slope_sign_changes = F.udf(lambda emg_signal, activity, x: calculate_slope_sign_changes(emg_signal, activity_length_map[activity]/NO_WINDOWS, activity, x), T.IntegerType())\n",
    "compute_waveform_length = F.udf(lambda emg_signal, activity, x: calculate_waveform_length(emg_signal, activity_length_map[activity]/NO_WINDOWS, activity, x), T.DoubleType())\n",
    "\n",
    "\n",
    "def get_start_end_for_window(window_length, x):\n",
    "    if x < 0:\n",
    "        start = 0\n",
    "        end = window_length * NO_WINDOWS\n",
    "    elif x == 1:\n",
    "        start = 0\n",
    "        end = window_length\n",
    "    else:\n",
    "        start = window_length * (x - 1)\n",
    "        end = window_length * x\n",
    "\n",
    "    return start, end\n",
    "\n",
    "def calculate_mean(emg_signal, window_length, activity, x):\n",
    "\n",
    "    start_end = get_start_end_for_window(window_length, x)\n",
    "    \n",
    "    return float(np.mean(emg_signal[int(start_end[0]):int(start_end[1])]))\n",
    "\n",
    "def calculate_root_mean_square(emg_signal, window_length, activity, x):\n",
    "\n",
    "    start_end = get_start_end_for_window(window_length, x)\n",
    "    \n",
    "    return float(np.sqrt(np.mean(np.square(emg_signal[int(start_end[0]):int(start_end[1])]))))\n",
    "\n",
    "def calculate_standard_deviation(emg_signal, window_length, activity, x):\n",
    "\n",
    "    start_end = get_start_end_for_window(window_length, x)\n",
    "    \n",
    "    return float(np.std(emg_signal[int(start_end[0]):int(start_end[1])]))\n",
    "\n",
    "def calculate_variance(emg_signal, window_length, activity, x):\n",
    "\n",
    "    start_end = get_start_end_for_window(window_length, x)\n",
    "    \n",
    "    return float(np.var(emg_signal[int(start_end[0]):int(start_end[1])]))\n",
    "\n",
    "def calculate_iemg(emg_signal, window_length, activity, x):\n",
    "\n",
    "    start_end = get_start_end_for_window(window_length, x)\n",
    "    \n",
    "    return float(np.sum(np.abs(emg_signal[int(start_end[0]):int(start_end[1])])))\n",
    "\n",
    "def calculate_zero_crossing_rate(emg_signal, window_length, activity, x):\n",
    "\n",
    "    start_end = get_start_end_for_window(window_length, x)\n",
    "    zero_crossings = np.where(np.diff(np.sign(emg_signal[int(start_end[0]):int(start_end[1])])))[0]\n",
    "    \n",
    "    return len(zero_crossings)\n",
    "\n",
    "def calculate_slope_sign_changes(emg_signal, window_length, activity, x):\n",
    "\n",
    "    start_end = get_start_end_for_window(window_length, x)\n",
    "\n",
    "    # First compute the derivative\n",
    "    derivative = np.diff(emg_signal[int(start_end[0]):int(start_end[1])])\n",
    "    \n",
    "    # Then compute zero crossingts of the derivative\n",
    "    slope_sign_changes = np.where(np.diff(np.sign(derivative)))[0]\n",
    "    \n",
    "    return len(slope_sign_changes)\n",
    "\n",
    "def calculate_waveform_length(emg_signal, window_length, activity, x):\n",
    "\n",
    "    start_end = get_start_end_for_window(window_length, x)\n",
    "    \n",
    "    return float(np.sum(np.abs(np.diff(emg_signal[int(start_end[0]):int(start_end[1])]))))\n",
    "\n",
    "# Extracting Time-domain features:\n",
    "semg_df = semg_df.withColumn('semg_1_td_mean', compute_mean(semg_df['filtered_semg_1_list'], semg_df['activity'], F.lit(-1)))\n",
    "semg_df = semg_df.withColumn('semg_1_td_rms', compute_root_mean_square(semg_df['filtered_semg_1_list'], semg_df['activity'], F.lit(-1)))\n",
    "semg_df = semg_df.withColumn('semg_1_td_sd', compute_standard_deviation(semg_df['filtered_semg_1_list'], semg_df['activity'], F.lit(-1)))\n",
    "semg_df = semg_df.withColumn('semg_1_td_var', compute_variance(semg_df['filtered_semg_1_list'], semg_df['activity'], F.lit(-1)))\n",
    "semg_df = semg_df.withColumn('semg_1_td_iemg', compute_iemg(semg_df['filtered_semg_1_list'], semg_df['activity'], F.lit(-1)))\n",
    "semg_df = semg_df.withColumn('semg_1_td_zcr', compute_zero_crossing_rate(semg_df['filtered_semg_1_list'], semg_df['activity'], F.lit(-1)))\n",
    "semg_df = semg_df.withColumn('semg_1_td_ssc', compute_slope_sign_changes(semg_df['filtered_semg_1_list'], semg_df['activity'], F.lit(-1)))\n",
    "semg_df = semg_df.withColumn('semg_1_td_wfl', compute_waveform_length(semg_df['filtered_semg_1_list'], semg_df['activity'], F.lit(-1)))\n",
    "\n",
    "semg_df = semg_df.withColumn('semg_2_td_mean', compute_mean(semg_df['filtered_semg_2_list'], semg_df['activity'], F.lit(-1)))\n",
    "semg_df = semg_df.withColumn('semg_2_td_rms', compute_root_mean_square(semg_df['filtered_semg_2_list'], semg_df['activity'], F.lit(-1)))\n",
    "semg_df = semg_df.withColumn('semg_2_td_sd', compute_standard_deviation(semg_df['filtered_semg_2_list'], semg_df['activity'], F.lit(-1)))\n",
    "semg_df = semg_df.withColumn('semg_2_td_var', compute_variance(semg_df['filtered_semg_2_list'], semg_df['activity'], F.lit(-1)))\n",
    "semg_df = semg_df.withColumn('semg_2_td_iemg', compute_iemg(semg_df['filtered_semg_2_list'], semg_df['activity'], F.lit(-1)))\n",
    "semg_df = semg_df.withColumn('semg_2_td_zcr', compute_zero_crossing_rate(semg_df['filtered_semg_2_list'], semg_df['activity'], F.lit(-1)))\n",
    "semg_df = semg_df.withColumn('semg_2_td_ssc', compute_slope_sign_changes(semg_df['filtered_semg_2_list'], semg_df['activity'], F.lit(-1)))\n",
    "semg_df = semg_df.withColumn('semg_2_td_wfl', compute_waveform_length(semg_df['filtered_semg_2_list'], semg_df['activity'], F.lit(-1)))\n",
    "\n",
    "semg_df = semg_df.withColumn('semg_3_td_mean', compute_mean(semg_df['filtered_semg_3_list'], semg_df['activity'], F.lit(-1)))\n",
    "semg_df = semg_df.withColumn('semg_3_td_rms', compute_root_mean_square(semg_df['filtered_semg_3_list'], semg_df['activity'], F.lit(-1)))\n",
    "semg_df = semg_df.withColumn('semg_3_td_sd', compute_standard_deviation(semg_df['filtered_semg_3_list'], semg_df['activity'], F.lit(-1)))\n",
    "semg_df = semg_df.withColumn('semg_3_td_var', compute_variance(semg_df['filtered_semg_3_list'], semg_df['activity'], F.lit(-1)))\n",
    "semg_df = semg_df.withColumn('semg_3_td_iemg', compute_iemg(semg_df['filtered_semg_3_list'], semg_df['activity'], F.lit(-1)))\n",
    "semg_df = semg_df.withColumn('semg_3_td_zcr', compute_zero_crossing_rate(semg_df['filtered_semg_3_list'], semg_df['activity'], F.lit(-1)))\n",
    "semg_df = semg_df.withColumn('semg_3_td_ssc', compute_slope_sign_changes(semg_df['filtered_semg_3_list'], semg_df['activity'], F.lit(-1)))\n",
    "semg_df = semg_df.withColumn('semg_3_td_wfl', compute_waveform_length(semg_df['filtered_semg_3_list'], semg_df['activity'], F.lit(-1)))\n",
    "\n",
    "semg_df = semg_df.withColumn('semg_4_td_mean', compute_mean(semg_df['filtered_semg_4_list'], semg_df['activity'], F.lit(-1)))\n",
    "semg_df = semg_df.withColumn('semg_4_td_rms', compute_root_mean_square(semg_df['filtered_semg_4_list'], semg_df['activity'], F.lit(-1)))\n",
    "semg_df = semg_df.withColumn('semg_4_td_sd', compute_standard_deviation(semg_df['filtered_semg_4_list'], semg_df['activity'], F.lit(-1)))\n",
    "semg_df = semg_df.withColumn('semg_4_td_var', compute_variance(semg_df['filtered_semg_4_list'], semg_df['activity'], F.lit(-1)))\n",
    "semg_df = semg_df.withColumn('semg_4_td_iemg', compute_iemg(semg_df['filtered_semg_4_list'], semg_df['activity'], F.lit(-1)))\n",
    "semg_df = semg_df.withColumn('semg_4_td_zcr', compute_zero_crossing_rate(semg_df['filtered_semg_4_list'], semg_df['activity'], F.lit(-1)))\n",
    "semg_df = semg_df.withColumn('semg_4_td_ssc', compute_slope_sign_changes(semg_df['filtered_semg_4_list'], semg_df['activity'], F.lit(-1)))\n",
    "semg_df = semg_df.withColumn('semg_4_td_wfl', compute_waveform_length(semg_df['filtered_semg_4_list'], semg_df['activity'], F.lit(-1)))\n",
    "\n",
    "semg_df = semg_df.withColumn('semg_5_td_mean', compute_mean(semg_df['filtered_semg_5_list'], semg_df['activity'], F.lit(-1)))\n",
    "semg_df = semg_df.withColumn('semg_5_td_rms', compute_root_mean_square(semg_df['filtered_semg_5_list'], semg_df['activity'], F.lit(-1)))\n",
    "semg_df = semg_df.withColumn('semg_5_td_sd', compute_standard_deviation(semg_df['filtered_semg_5_list'], semg_df['activity'], F.lit(-1)))\n",
    "semg_df = semg_df.withColumn('semg_5_td_var', compute_variance(semg_df['filtered_semg_5_list'], semg_df['activity'], F.lit(-1)))\n",
    "semg_df = semg_df.withColumn('semg_5_td_iemg', compute_iemg(semg_df['filtered_semg_5_list'], semg_df['activity'], F.lit(-1)))\n",
    "semg_df = semg_df.withColumn('semg_5_td_zcr', compute_zero_crossing_rate(semg_df['filtered_semg_5_list'], semg_df['activity'], F.lit(-1)))\n",
    "semg_df = semg_df.withColumn('semg_5_td_ssc', compute_slope_sign_changes(semg_df['filtered_semg_5_list'], semg_df['activity'], F.lit(-1)))\n",
    "semg_df = semg_df.withColumn('semg_5_td_wfl', compute_waveform_length(semg_df['filtered_semg_5_list'], semg_df['activity'], F.lit(-1)))\n"
   ]
  },
  {
   "cell_type": "code",
   "execution_count": 5,
   "id": "7b149332",
   "metadata": {
    "executionInfo": {
     "elapsed": 44920,
     "status": "ok",
     "timestamp": 1691788665768,
     "user": {
      "displayName": "Saurav Das",
      "userId": "07719429245289991461"
     },
     "user_tz": -60
    },
    "id": "7b149332"
   },
   "outputs": [],
   "source": [
    "# Generate 5 time-domain features per trial.\n",
    "for x in range(1, NO_WINDOWS + 1):\n",
    "    semg_df = semg_df.withColumn('semg_1_td_mean_' + str(x), compute_mean(semg_df['filtered_semg_1_list'], semg_df['activity'], F.lit(x)))\n",
    "    semg_df = semg_df.withColumn('semg_1_td_rms_' + str(x), compute_root_mean_square(semg_df['filtered_semg_1_list'], semg_df['activity'], F.lit(x)))\n",
    "    semg_df = semg_df.withColumn('semg_1_td_sd_' + str(x), compute_standard_deviation(semg_df['filtered_semg_1_list'], semg_df['activity'], F.lit(x)))\n",
    "    semg_df = semg_df.withColumn('semg_1_td_var_' + str(x), compute_variance(semg_df['filtered_semg_1_list'], semg_df['activity'], F.lit(x)))\n",
    "    semg_df = semg_df.withColumn('semg_1_td_iemg_' + str(x), compute_iemg(semg_df['filtered_semg_1_list'], semg_df['activity'], F.lit(x)))\n",
    "    semg_df = semg_df.withColumn('semg_1_td_zcr_' + str(x), compute_zero_crossing_rate(semg_df['filtered_semg_1_list'], semg_df['activity'], F.lit(x)))\n",
    "    semg_df = semg_df.withColumn('semg_1_td_ssc_' + str(x), compute_slope_sign_changes(semg_df['filtered_semg_1_list'], semg_df['activity'], F.lit(x)))\n",
    "    semg_df = semg_df.withColumn('semg_1_td_wfl_' + str(x), compute_waveform_length(semg_df['filtered_semg_1_list'], semg_df['activity'], F.lit(x)))\n",
    "\n",
    "    semg_df = semg_df.withColumn('semg_2_td_mean_' + str(x), compute_mean(semg_df['filtered_semg_2_list'], semg_df['activity'], F.lit(x)))\n",
    "    semg_df = semg_df.withColumn('semg_2_td_rms_' + str(x), compute_root_mean_square(semg_df['filtered_semg_2_list'], semg_df['activity'], F.lit(x)))\n",
    "    semg_df = semg_df.withColumn('semg_2_td_sd_' + str(x), compute_standard_deviation(semg_df['filtered_semg_2_list'], semg_df['activity'], F.lit(x)))\n",
    "    semg_df = semg_df.withColumn('semg_2_td_var_' + str(x), compute_variance(semg_df['filtered_semg_2_list'], semg_df['activity'], F.lit(x)))\n",
    "    semg_df = semg_df.withColumn('semg_2_td_iemg_' + str(x), compute_iemg(semg_df['filtered_semg_2_list'], semg_df['activity'], F.lit(x)))\n",
    "    semg_df = semg_df.withColumn('semg_2_td_zcr_' + str(x), compute_zero_crossing_rate(semg_df['filtered_semg_2_list'], semg_df['activity'], F.lit(x)))\n",
    "    semg_df = semg_df.withColumn('semg_2_td_ssc_' + str(x), compute_slope_sign_changes(semg_df['filtered_semg_2_list'], semg_df['activity'], F.lit(x)))\n",
    "    semg_df = semg_df.withColumn('semg_2_td_wfl_' + str(x), compute_waveform_length(semg_df['filtered_semg_2_list'], semg_df['activity'], F.lit(x)))\n",
    "\n",
    "    semg_df = semg_df.withColumn('semg_3_td_mean_' + str(x), compute_mean(semg_df['filtered_semg_3_list'], semg_df['activity'], F.lit(x)))\n",
    "    semg_df = semg_df.withColumn('semg_3_td_rms_' + str(x), compute_root_mean_square(semg_df['filtered_semg_3_list'], semg_df['activity'], F.lit(x)))\n",
    "    semg_df = semg_df.withColumn('semg_3_td_sd_' + str(x), compute_standard_deviation(semg_df['filtered_semg_3_list'], semg_df['activity'], F.lit(x)))\n",
    "    semg_df = semg_df.withColumn('semg_3_td_var_' + str(x), compute_variance(semg_df['filtered_semg_3_list'], semg_df['activity'], F.lit(x)))\n",
    "    semg_df = semg_df.withColumn('semg_3_td_iemg_' + str(x), compute_iemg(semg_df['filtered_semg_3_list'], semg_df['activity'], F.lit(x)))\n",
    "    semg_df = semg_df.withColumn('semg_3_td_zcr_' + str(x), compute_zero_crossing_rate(semg_df['filtered_semg_3_list'], semg_df['activity'], F.lit(x)))\n",
    "    semg_df = semg_df.withColumn('semg_3_td_ssc_' + str(x), compute_slope_sign_changes(semg_df['filtered_semg_3_list'], semg_df['activity'], F.lit(x)))\n",
    "    semg_df = semg_df.withColumn('semg_3_td_wfl_' + str(x), compute_waveform_length(semg_df['filtered_semg_3_list'], semg_df['activity'], F.lit(x)))\n",
    "\n",
    "    semg_df = semg_df.withColumn('semg_4_td_mean_' + str(x), compute_mean(semg_df['filtered_semg_4_list'], semg_df['activity'], F.lit(x)))\n",
    "    semg_df = semg_df.withColumn('semg_4_td_rms_' + str(x), compute_root_mean_square(semg_df['filtered_semg_4_list'], semg_df['activity'], F.lit(x)))\n",
    "    semg_df = semg_df.withColumn('semg_4_td_sd_' + str(x), compute_standard_deviation(semg_df['filtered_semg_4_list'], semg_df['activity'], F.lit(x)))\n",
    "    semg_df = semg_df.withColumn('semg_4_td_var_' + str(x), compute_variance(semg_df['filtered_semg_4_list'], semg_df['activity'], F.lit(x)))\n",
    "    semg_df = semg_df.withColumn('semg_4_td_iemg_' + str(x), compute_iemg(semg_df['filtered_semg_4_list'], semg_df['activity'], F.lit(-x)))\n",
    "    semg_df = semg_df.withColumn('semg_4_td_zcr_' + str(x), compute_zero_crossing_rate(semg_df['filtered_semg_4_list'], semg_df['activity'], F.lit(x)))\n",
    "    semg_df = semg_df.withColumn('semg_4_td_ssc_' + str(x), compute_slope_sign_changes(semg_df['filtered_semg_4_list'], semg_df['activity'], F.lit(x)))\n",
    "    semg_df = semg_df.withColumn('semg_4_td_wfl_' + str(x), compute_waveform_length(semg_df['filtered_semg_4_list'], semg_df['activity'], F.lit(x)))\n",
    "\n",
    "    semg_df = semg_df.withColumn('semg_5_td_mean_' + str(x), compute_mean(semg_df['filtered_semg_5_list'], semg_df['activity'], F.lit(x)))\n",
    "    semg_df = semg_df.withColumn('semg_5_td_rms_' + str(x), compute_root_mean_square(semg_df['filtered_semg_5_list'], semg_df['activity'], F.lit(x)))\n",
    "    semg_df = semg_df.withColumn('semg_5_td_sd_' + str(x), compute_standard_deviation(semg_df['filtered_semg_5_list'], semg_df['activity'], F.lit(x)))\n",
    "    semg_df = semg_df.withColumn('semg_5_td_var_' + str(x), compute_variance(semg_df['filtered_semg_5_list'], semg_df['activity'], F.lit(x)))\n",
    "    semg_df = semg_df.withColumn('semg_5_td_iemg_' + str(x), compute_iemg(semg_df['filtered_semg_5_list'], semg_df['activity'], F.lit(x)))\n",
    "    semg_df = semg_df.withColumn('semg_5_td_zcr_' + str(x), compute_zero_crossing_rate(semg_df['filtered_semg_5_list'], semg_df['activity'], F.lit(x)))\n",
    "    semg_df = semg_df.withColumn('semg_5_td_ssc_' + str(x), compute_slope_sign_changes(semg_df['filtered_semg_5_list'], semg_df['activity'], F.lit(x)))\n",
    "    semg_df = semg_df.withColumn('semg_5_td_wfl_' + str(x), compute_waveform_length(semg_df['filtered_semg_5_list'], semg_df['activity'], F.lit(x)))\n"
   ]
  },
  {
   "cell_type": "markdown",
   "id": "edf0f09d",
   "metadata": {
    "id": "edf0f09d"
   },
   "source": [
    "**Extracting Frequency Domain Features for each signal**"
   ]
  },
  {
   "cell_type": "code",
   "execution_count": 6,
   "id": "399a8664",
   "metadata": {
    "executionInfo": {
     "elapsed": 5623,
     "status": "ok",
     "timestamp": 1691788671366,
     "user": {
      "displayName": "Saurav Das",
      "userId": "07719429245289991461"
     },
     "user_tz": -60
    },
    "id": "399a8664"
   },
   "outputs": [],
   "source": [
    "compute_fft = F.udf(lambda emg_signal, activity, x: calculate_fft(emg_signal, activity_length_map[activity]/NO_WINDOWS, activity, x), T.ArrayType(T.DoubleType()))\n",
    "compute_power_spectral_density = F.udf(lambda emg_signal, activity, x: calculate_power_spectral_density(emg_signal, activity_length_map[activity]/NO_WINDOWS, activity, x), T.ArrayType(T.DoubleType()))\n",
    "compute_median_frequency = F.udf(lambda emg_signal, activity, x: calculate_median_frequency(emg_signal, activity_length_map[activity]/NO_WINDOWS, activity, x), T.DoubleType())\n",
    "compute_mean_frequency = F.udf(lambda emg_signal, activity, x: calculate_mean_frequency(emg_signal, activity_length_map[activity]/NO_WINDOWS, activity, x), T.DoubleType())\n",
    "\n",
    "def calculate_fft(emg_signal, window_length, activity, x):\n",
    "\n",
    "    start_end = get_start_end_for_window(window_length, x)\n",
    "\n",
    "    # Compute FFT and take absolute value to get magnitude\n",
    "    fft_values = np.abs(fftpack.fft(emg_signal))\n",
    "    \n",
    "    # Only keep first half of FFT values for real signals\n",
    "    fft_values = fft_values[:len(emg_signal)//2]\n",
    "    \n",
    "    return fft_values.tolist()\n",
    "\n",
    "def calculate_power_spectral_density(emg_signal, window_length, activity, x):\n",
    "\n",
    "    start_end = get_start_end_for_window(window_length, x)\n",
    "\n",
    "    # First compute FFT\n",
    "    fft_values = calculate_fft(emg_signal, window_length, activity, x)\n",
    "\n",
    "    # Then, square the FFT values to get power spectral density\n",
    "    psd_values = np.square(fft_values)\n",
    "    \n",
    "    return psd_values.tolist()\n",
    "\n",
    "def calculate_median_frequency(emg_signal, window_length, activity, x, sample_rate=2000):\n",
    "\n",
    "    start_end = get_start_end_for_window(window_length, x)\n",
    "\n",
    "    psd_values = calculate_power_spectral_density(emg_signal, window_length, activity, x)\n",
    "\n",
    "    # Calculate frequencies for each FFT sample\n",
    "    freqs = fftpack.fftfreq(len(emg_signal), d=1/sample_rate)\n",
    "    \n",
    "    # Keep only the positive frequencies (first half)\n",
    "    freqs = freqs[:len(emg_signal)//2]\n",
    "    \n",
    "    # Calculate cumulative sum of power spectral density\n",
    "    cumulative_psd = np.cumsum(psd_values)\n",
    "    \n",
    "    # Find frequency where cumulative sum is 50% of total sum\n",
    "    median_freq = freqs[np.where(cumulative_psd >= 0.5 * cumulative_psd[-1])[0][0]]\n",
    "    \n",
    "    return float(median_freq)\n",
    "\n",
    "def calculate_mean_frequency(emg_signal, window_length, activity, x, sample_rate=2000):\n",
    "\n",
    "    start_end = get_start_end_for_window(window_length, x)\n",
    "\n",
    "    psd_values = calculate_power_spectral_density(emg_signal, window_length, activity, x)\n",
    "\n",
    "    # Calculate frequencies for each FFT sample\n",
    "    freqs = fftpack.fftfreq(len(emg_signal), d=1/sample_rate)\n",
    "\n",
    "    # Keep only the positive frequencies (first half)\n",
    "    freqs = freqs[:len(emg_signal)//2]\n",
    "    \n",
    "    # Calculate mean frequency\n",
    "    mean_freq = np.sum(psd_values * freqs) / np.sum(psd_values)\n",
    "    \n",
    "    return float(mean_freq)\n",
    "\n",
    "semg_df = semg_df.withColumn('semg_1_fd_fft', compute_fft(semg_df['filtered_semg_1_list'], semg_df['activity'], F.lit(-1)))\n",
    "semg_df = semg_df.withColumn('semg_1_fd_psd', compute_power_spectral_density(semg_df['filtered_semg_1_list'], semg_df['activity'], F.lit(-1)))\n",
    "semg_df = semg_df.withColumn('semg_1_fd_medfreq', compute_median_frequency(semg_df['filtered_semg_1_list'], semg_df['activity'], F.lit(-1)))\n",
    "semg_df = semg_df.withColumn('semg_1_fd_meanfreq', compute_mean_frequency(semg_df['filtered_semg_1_list'], semg_df['activity'], F.lit(-1)))\n",
    "\n",
    "semg_df = semg_df.withColumn('semg_2_fd_fft', compute_fft(semg_df['filtered_semg_2_list'], semg_df['activity'], F.lit(-1)))\n",
    "semg_df = semg_df.withColumn('semg_2_fd_psd', compute_power_spectral_density(semg_df['filtered_semg_2_list'], semg_df['activity'], F.lit(-1)))\n",
    "semg_df = semg_df.withColumn('semg_2_fd_medfreq', compute_median_frequency(semg_df['filtered_semg_2_list'], semg_df['activity'], F.lit(-1)))\n",
    "semg_df = semg_df.withColumn('semg_2_fd_meanfreq', compute_mean_frequency(semg_df['filtered_semg_2_list'], semg_df['activity'], F.lit(-1)))\n",
    "\n",
    "semg_df = semg_df.withColumn('semg_3_fd_fft', compute_fft(semg_df['filtered_semg_3_list'], semg_df['activity'], F.lit(-1)))\n",
    "semg_df = semg_df.withColumn('semg_3_fd_psd', compute_power_spectral_density(semg_df['filtered_semg_3_list'], semg_df['activity'], F.lit(-1)))\n",
    "semg_df = semg_df.withColumn('semg_3_fd_medfreq', compute_median_frequency(semg_df['filtered_semg_3_list'], semg_df['activity'], F.lit(-1)))\n",
    "semg_df = semg_df.withColumn('semg_3_fd_meanfreq', compute_mean_frequency(semg_df['filtered_semg_3_list'], semg_df['activity'], F.lit(-1)))\n",
    "\n",
    "semg_df = semg_df.withColumn('semg_4_fd_fft', compute_fft(semg_df['filtered_semg_4_list'], semg_df['activity'], F.lit(-1)))\n",
    "semg_df = semg_df.withColumn('semg_4_fd_psd', compute_power_spectral_density(semg_df['filtered_semg_4_list'], semg_df['activity'], F.lit(-1)))\n",
    "semg_df = semg_df.withColumn('semg_4_fd_medfreq', compute_median_frequency(semg_df['filtered_semg_4_list'], semg_df['activity'], F.lit(-1)))\n",
    "semg_df = semg_df.withColumn('semg_4_fd_meanfreq', compute_mean_frequency(semg_df['filtered_semg_4_list'], semg_df['activity'], F.lit(-1)))\n",
    "\n",
    "semg_df = semg_df.withColumn('semg_5_fd_fft', compute_fft(semg_df['filtered_semg_5_list'], semg_df['activity'], F.lit(-1)))\n",
    "semg_df = semg_df.withColumn('semg_5_fd_psd', compute_power_spectral_density(semg_df['filtered_semg_5_list'], semg_df['activity'], F.lit(-1)))\n",
    "semg_df = semg_df.withColumn('semg_5_fd_medfreq', compute_median_frequency(semg_df['filtered_semg_5_list'], semg_df['activity'], F.lit(-1)))\n",
    "semg_df = semg_df.withColumn('semg_5_fd_meanfreq', compute_mean_frequency(semg_df['filtered_semg_5_list'], semg_df['activity'], F.lit(-1)))\n"
   ]
  },
  {
   "cell_type": "code",
   "execution_count": 7,
   "id": "9fb3dc78",
   "metadata": {
    "executionInfo": {
     "elapsed": 21,
     "status": "ok",
     "timestamp": 1691788671366,
     "user": {
      "displayName": "Saurav Das",
      "userId": "07719429245289991461"
     },
     "user_tz": -60
    },
    "id": "9fb3dc78"
   },
   "outputs": [],
   "source": [
    "# Generate 4 frequency-domain features per trial.\n",
    "for x in range(1, NO_WINDOWS + 1):\n",
    "    semg_df = semg_df.withColumn('semg_1_fd_fft_' + str(x), compute_fft(semg_df['filtered_semg_1_list'], semg_df['activity'], F.lit(x)))\n",
    "    semg_df = semg_df.withColumn('semg_1_fd_psd_' + str(x), compute_power_spectral_density(semg_df['filtered_semg_1_list'], semg_df['activity'], F.lit(x)))\n",
    "    semg_df = semg_df.withColumn('semg_1_fd_medfreq_' + str(x), compute_median_frequency(semg_df['filtered_semg_1_list'], semg_df['activity'], F.lit(x)))\n",
    "    semg_df = semg_df.withColumn('semg_1_fd_meanfreq_' + str(x), compute_mean_frequency(semg_df['filtered_semg_1_list'], semg_df['activity'], F.lit(x)))\n",
    "\n",
    "    semg_df = semg_df.withColumn('semg_2_fd_fft_' + str(x), compute_fft(semg_df['filtered_semg_2_list'], semg_df['activity'], F.lit(x)))\n",
    "    semg_df = semg_df.withColumn('semg_2_fd_psd_' + str(x), compute_power_spectral_density(semg_df['filtered_semg_2_list'], semg_df['activity'], F.lit(x)))\n",
    "    semg_df = semg_df.withColumn('semg_2_fd_medfreq_' + str(x), compute_median_frequency(semg_df['filtered_semg_2_list'], semg_df['activity'], F.lit(x)))\n",
    "    semg_df = semg_df.withColumn('semg_2_fd_meanfreq_' + str(x), compute_mean_frequency(semg_df['filtered_semg_2_list'], semg_df['activity'], F.lit(x)))\n",
    "\n",
    "    semg_df = semg_df.withColumn('semg_3_fd_fft_' + str(x), compute_fft(semg_df['filtered_semg_3_list'], semg_df['activity'], F.lit(x)))\n",
    "    semg_df = semg_df.withColumn('semg_3_fd_psd_' + str(x), compute_power_spectral_density(semg_df['filtered_semg_3_list'], semg_df['activity'], F.lit(x)))\n",
    "    semg_df = semg_df.withColumn('semg_3_fd_medfreq_' + str(x), compute_median_frequency(semg_df['filtered_semg_3_list'], semg_df['activity'], F.lit(x)))\n",
    "    semg_df = semg_df.withColumn('semg_3_fd_meanfreq_' + str(x), compute_mean_frequency(semg_df['filtered_semg_3_list'], semg_df['activity'], F.lit(x)))\n",
    "\n",
    "    semg_df = semg_df.withColumn('semg_4_fd_fft_' + str(x), compute_fft(semg_df['filtered_semg_4_list'], semg_df['activity'], F.lit(x)))\n",
    "    semg_df = semg_df.withColumn('semg_4_fd_psd_' + str(x), compute_power_spectral_density(semg_df['filtered_semg_4_list'], semg_df['activity'], F.lit(x)))\n",
    "    semg_df = semg_df.withColumn('semg_4_fd_medfreq_' + str(x), compute_median_frequency(semg_df['filtered_semg_4_list'], semg_df['activity'], F.lit(x)))\n",
    "    semg_df = semg_df.withColumn('semg_4_fd_meanfreq_' + str(x), compute_mean_frequency(semg_df['filtered_semg_4_list'], semg_df['activity'], F.lit(x)))\n",
    "\n",
    "    semg_df = semg_df.withColumn('semg_5_fd_fft_' + str(x), compute_fft(semg_df['filtered_semg_5_list'], semg_df['activity'], F.lit(x)))\n",
    "    semg_df = semg_df.withColumn('semg_5_fd_psd_' + str(x), compute_power_spectral_density(semg_df['filtered_semg_5_list'], semg_df['activity'], F.lit(x)))\n",
    "    semg_df = semg_df.withColumn('semg_5_fd_medfreq_' + str(x), compute_median_frequency(semg_df['filtered_semg_5_list'], semg_df['activity'], F.lit(x)))\n",
    "    semg_df = semg_df.withColumn('semg_5_fd_meanfreq_' + str(x), compute_mean_frequency(semg_df['filtered_semg_5_list'], semg_df['activity'], F.lit(x)))\n",
    "\n"
   ]
  },
  {
   "cell_type": "markdown",
   "id": "db25b2e5",
   "metadata": {
    "id": "db25b2e5"
   },
   "source": [
    "**Time-Frequency Domain and other additional Features**"
   ]
  },
  {
   "cell_type": "code",
   "execution_count": 8,
   "id": "a6169166",
   "metadata": {
    "executionInfo": {
     "elapsed": 6393,
     "status": "ok",
     "timestamp": 1691788677739,
     "user": {
      "displayName": "Saurav Das",
      "userId": "07719429245289991461"
     },
     "user_tz": -60
    },
    "id": "a6169166"
   },
   "outputs": [],
   "source": [
    "WINDOW_SIZE = 100\n",
    "OVERLAP = 50\n",
    "NUM_COEFFS = 12\n",
    "ORDER = 4\n",
    "\n",
    "compute_stft = F.udf(lambda emg_signal, activity, x: calculate_stft(emg_signal, activity_length_map[activity]/NO_WINDOWS, activity, x), T.ArrayType(T.DoubleType()))\n",
    "compute_mfcc = F.udf(lambda emg_signal, activity, x: calculate_mfcc(emg_signal, activity_length_map[activity]/NO_WINDOWS, activity, x), T.ArrayType(T.ArrayType(T.DoubleType())))\n",
    "compute_hjorth = F.udf(lambda emg_signal, activity, x: calculate_hjorth(emg_signal, activity_length_map[activity]/NO_WINDOWS, activity, x), T.ArrayType(T.DoubleType()))\n",
    "compute_autoregressive_coeffs = F.udf(lambda emg_signal, activity, x: calculate_autoregressive_coeffs(emg_signal, activity_length_map[activity]/NO_WINDOWS, activity, x), T.ArrayType(T.DoubleType()))\n",
    "\n",
    "def calculate_stft(emg_signal, window_length, activity, x, sample_rate=2000, window_size=WINDOW_SIZE, overlap=OVERLAP):\n",
    "\n",
    "    start_end = get_start_end_for_window(window_length, x)\n",
    "\n",
    "    # window_size and overlap are in seconds\n",
    "    window_sample_count = int(window_size * sample_rate)\n",
    "    overlap_sample_count = int(overlap * sample_rate)\n",
    "\n",
    "    # Compute stft\n",
    "    f, t, Zxx = stft(emg_signal, fs=sample_rate, nperseg=window_sample_count, noverlap=overlap_sample_count)\n",
    "    \n",
    "    return list(f, t, Zxx)\n",
    "\n",
    "def calculate_mfcc(emg_signal, window_length, activity, x, sample_rate=2000, num_coeffs=NUM_COEFFS):\n",
    "\n",
    "    start_end = get_start_end_for_window(window_length, x)\n",
    "\n",
    "    # num_coeffs is the number of MFCCs to compute\n",
    "    return mfcc(emg_signal, samplerate=sample_rate, numcep=num_coeffs)\n",
    "\n",
    "def calculate_hjorth(emg_signal, window_length, activity, x):\n",
    "\n",
    "    start_end = get_start_end_for_window(window_length, x)\n",
    "\n",
    "    # Compute the 3 hjorth parameters\n",
    "    activeness = np.var(emg_signal)\n",
    "    mobility = np.sqrt(np.var(np.diff(emg_signal)) / activeness)\n",
    "    complexity = np.sqrt(np.var(np.diff(np.diff(emg_signal))) / np.var(np.diff(emg_signal))) / mobility\n",
    "\n",
    "    return list(activity, mobility, complexity)\n",
    "\n",
    "def calculate_autoregressive_coeffs(emg_signal, window_length, activity, x, order=ORDER):\n",
    "\n",
    "    start_end = get_start_end_for_window(window_length, x)\n",
    "\n",
    "    model = AutoReg(emg_signal, lags=order)\n",
    "    model_fit = model.fit()\n",
    "    return model_fit.params.tolist()\n",
    "\n",
    "semg_df = semg_df.withColumn('semg_1_tfd_stft', compute_fft(semg_df['filtered_semg_1_list'], semg_df['activity'], F.lit(-1)))\n",
    "semg_df = semg_df.withColumn('semg_1_tfd_mfcc', compute_fft(semg_df['filtered_semg_1_list'], semg_df['activity'], F.lit(-1)))\n",
    "semg_df = semg_df.withColumn('semg_1_tfd_hjorth', compute_fft(semg_df['filtered_semg_1_list'], semg_df['activity'], F.lit(-1)))\n",
    "semg_df = semg_df.withColumn('semg_1_tfd_arcoeffs', compute_fft(semg_df['filtered_semg_1_list'], semg_df['activity'], F.lit(-1)))\n",
    "\n",
    "semg_df = semg_df.withColumn('semg_2_tfd_stft', compute_fft(semg_df['filtered_semg_2_list'], semg_df['activity'], F.lit(-1)))\n",
    "semg_df = semg_df.withColumn('semg_2_tfd_mfcc', compute_fft(semg_df['filtered_semg_2_list'], semg_df['activity'], F.lit(-1)))\n",
    "semg_df = semg_df.withColumn('semg_2_tfd_hjorth', compute_fft(semg_df['filtered_semg_2_list'], semg_df['activity'], F.lit(-1)))\n",
    "semg_df = semg_df.withColumn('semg_2_tfd_arcoeffs', compute_fft(semg_df['filtered_semg_2_list'], semg_df['activity'], F.lit(-1)))\n",
    "\n",
    "semg_df = semg_df.withColumn('semg_3_tfd_stft', compute_fft(semg_df['filtered_semg_3_list'], semg_df['activity'], F.lit(-1)))\n",
    "semg_df = semg_df.withColumn('semg_3_tfd_mfcc', compute_fft(semg_df['filtered_semg_3_list'], semg_df['activity'], F.lit(-1)))\n",
    "semg_df = semg_df.withColumn('semg_3_tfd_hjorth', compute_fft(semg_df['filtered_semg_3_list'], semg_df['activity'], F.lit(-1)))\n",
    "semg_df = semg_df.withColumn('semg_3_tfd_arcoeffs', compute_fft(semg_df['filtered_semg_3_list'], semg_df['activity'], F.lit(-1)))\n",
    "\n",
    "semg_df = semg_df.withColumn('semg_4_tfd_stft', compute_fft(semg_df['filtered_semg_4_list'], semg_df['activity'], F.lit(-1)))\n",
    "semg_df = semg_df.withColumn('semg_4_tfd_mfcc', compute_fft(semg_df['filtered_semg_4_list'], semg_df['activity'], F.lit(-1)))\n",
    "semg_df = semg_df.withColumn('semg_4_tfd_hjorth', compute_fft(semg_df['filtered_semg_4_list'], semg_df['activity'], F.lit(-1)))\n",
    "semg_df = semg_df.withColumn('semg_4_tfd_arcoeffs', compute_fft(semg_df['filtered_semg_4_list'], semg_df['activity'], F.lit(-1)))\n",
    "\n",
    "semg_df = semg_df.withColumn('semg_5_tfd_stft', compute_fft(semg_df['filtered_semg_5_list'], semg_df['activity'], F.lit(-1)))\n",
    "semg_df = semg_df.withColumn('semg_5_tfd_mfcc', compute_fft(semg_df['filtered_semg_5_list'], semg_df['activity'], F.lit(-1)))\n",
    "semg_df = semg_df.withColumn('semg_5_tfd_hjorth', compute_fft(semg_df['filtered_semg_5_list'], semg_df['activity'], F.lit(-1)))\n",
    "semg_df = semg_df.withColumn('semg_5_tfd_arcoeffs', compute_fft(semg_df['filtered_semg_5_list'], semg_df['activity'], F.lit(-1)))\n"
   ]
  },
  {
   "cell_type": "markdown",
   "id": "da61697b",
   "metadata": {
    "id": "da61697b"
   },
   "source": [
    "**Write the data as output to parquet files.**"
   ]
  },
  {
   "cell_type": "code",
   "execution_count": 10,
   "id": "81163706",
   "metadata": {
    "colab": {
     "base_uri": "https://localhost:8080/"
    },
    "id": "81163706",
    "outputId": "0f5754fe-31e7-4e46-ade6-50f06b8a6e34"
   },
   "outputs": [
    {
     "name": "stdout",
     "output_type": "stream",
     "text": [
      "Repartitioning and writing as parquet..\n"
     ]
    },
    {
     "name": "stderr",
     "output_type": "stream",
     "text": [
      "                                                                                \r"
     ]
    },
    {
     "name": "stdout",
     "output_type": "stream",
     "text": [
      "Completed repartitioning and writing.\n",
      "Execution time: 256.0938618183136 seconds\n"
     ]
    }
   ],
   "source": [
    "# Get the start time\n",
    "st = time.time()\n",
    "\n",
    "#Writing to files:\n",
    "print(\"Repartitioning and writing as parquet..\")\n",
    "semg_df = semg_df.repartition(21, 'activity')\n",
    "# semg_df.write.mode('overwrite').parquet(\"semg_with_extracted_features/\")\n",
    "\n",
    "semg_df = semg_df.drop('filtered_semg_1_list', 'filtered_semg_2_list', 'filtered_semg_3_list', 'filtered_semg_4_list', 'filtered_semg_5_list')\n",
    "semg_df = semg_df.drop('semg_1_list', 'semg_2_list', 'semg_3_list', 'semg_4_list', 'semg_5_list')\n",
    "\n",
    "# remove_list = ['semg_1_fd_fft', 'semg_2_fd_fft', 'semg_3_fd_fft', 'semg_4_fd_fft', 'semg_5_fd_fft',\n",
    "#                       'semg_1_fd_psd', 'semg_2_fd_psd', 'semg_3_fd_psd', 'semg_4_fd_psd', 'semg_5_fd_psd',\n",
    "#                       'semg_1_tfd_stft', 'semg_2_tfd_stft', 'semg_3_tfd_stft', 'semg_4_tfd_stft', 'semg_5_tfd_stft',\n",
    "#                       'semg_1_tfd_mfcc', 'semg_2_tfd_mfcc', 'semg_3_tfd_mfcc', 'semg_4_tfd_mfcc', 'semg_5_tfd_mfcc',\n",
    "#                       'semg_1_tfd_hjorth', 'semg_2_tfd_hjorth', 'semg_3_tfd_hjorth', 'semg_4_tfd_hjorth', 'semg_5_tfd_hjorth',\n",
    "#                       'semg_1_tfd_arcoeffs', 'semg_2_tfd_arcoeffs', 'semg_3_tfd_arcoeffs', 'semg_4_tfd_arcoeffs', 'semg_5_tfd_arcoeffs']\n",
    "\n",
    "# remove_list = remove_list + [f\"{item}_{suffix}\" for item in remove_list for suffix in range(1, NO_WINDOWS + 1)]\n",
    "# print(remove_list)\n",
    "\n",
    "# for item in remove_list:\n",
    "#     semg_df = semg_df.drop(item)\n",
    "\n",
    "semg_df.write.mode('overwrite').parquet(\"semg_extracted_more_features_detrended/\")\n",
    "\n",
    "print(\"Completed repartitioning and writing.\")\n",
    "\n",
    "# Get the end time\n",
    "et = time.time()\n",
    "\n",
    "# Calculate the execution time\n",
    "elapsed_time = et - st\n",
    "print('Execution time:', elapsed_time, 'seconds')"
   ]
  },
  {
   "cell_type": "code",
   "execution_count": 11,
   "id": "c4b6d3d6",
   "metadata": {
    "id": "c4b6d3d6"
   },
   "outputs": [],
   "source": [
    "print('Writing to database..')\n",
    "semg_df.write.format('jdbc').option(\"url\", \"jdbc:postgresql://localhost:5432/postgres\") \\\n",
    "    .option(\"driver\", \"org.postgresql.Driver\").option(\"dbtable\", \"semg_all_scalar_features\") \\\n",
    "    .option(\"user\", \"postgres\").option(\"password\", \"postgres\").save(mode='append')\n",
    "print(\"Completed writing to database.\")\n",
    "print('Processing complete.')\n"
   ]
  }
 ],
 "metadata": {
  "accelerator": "GPU",
  "colab": {
   "gpuType": "A100",
   "machine_shape": "hm",
   "provenance": []
  },
  "kernelspec": {
   "display_name": "Python 3 (ipykernel)",
   "language": "python",
   "name": "python3"
  },
  "language_info": {
   "codemirror_mode": {
    "name": "ipython",
    "version": 3
   },
   "file_extension": ".py",
   "mimetype": "text/x-python",
   "name": "python",
   "nbconvert_exporter": "python",
   "pygments_lexer": "ipython3",
   "version": "3.9.12"
  }
 },
 "nbformat": 4,
 "nbformat_minor": 5
}
